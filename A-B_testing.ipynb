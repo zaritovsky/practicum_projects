{
 "cells": [
  {
   "cell_type": "markdown",
   "metadata": {},
   "source": [
    "<a id = \"part3\"></a>\n",
    "## Анализ A/B-теста\n",
    "\n",
    "Результаты A/B-теста описаны в файлах /datasets/orders.csv и /datasets/visitors.csv.\n",
    "\n",
    "## Задача\n",
    "Анализ A/B-теста."
   ]
  },
  {
   "cell_type": "code",
   "execution_count": 1,
   "metadata": {},
   "outputs": [],
   "source": [
    "import pandas as pd\n",
    "import numpy as np\n",
    "import matplotlib.pyplot as plt\n",
    "import scipy.stats as stats\n",
    "import seaborn as sns"
   ]
  },
  {
   "cell_type": "code",
   "execution_count": 4,
   "metadata": {},
   "outputs": [
    {
     "name": "stdout",
     "output_type": "stream",
     "text": [
      "<class 'pandas.core.frame.DataFrame'>\n",
      "Int64Index: 1197 entries, 0 to 1196\n",
      "Data columns (total 5 columns):\n",
      "transactionId    1197 non-null int64\n",
      "visitorId        1197 non-null int64\n",
      "date             1197 non-null datetime64[ns]\n",
      "revenue          1197 non-null int64\n",
      "group            1197 non-null object\n",
      "dtypes: datetime64[ns](1), int64(3), object(1)\n",
      "memory usage: 56.1+ KB\n",
      "<class 'pandas.core.frame.DataFrame'>\n",
      "Int64Index: 62 entries, 0 to 61\n",
      "Data columns (total 3 columns):\n",
      "date        62 non-null datetime64[ns]\n",
      "group       62 non-null object\n",
      "visitors    62 non-null int64\n",
      "dtypes: datetime64[ns](1), int64(1), object(1)\n",
      "memory usage: 1.9+ KB\n"
     ]
    },
    {
     "data": {
      "text/html": [
       "<div>\n",
       "<style scoped>\n",
       "    .dataframe tbody tr th:only-of-type {\n",
       "        vertical-align: middle;\n",
       "    }\n",
       "\n",
       "    .dataframe tbody tr th {\n",
       "        vertical-align: top;\n",
       "    }\n",
       "\n",
       "    .dataframe thead th {\n",
       "        text-align: right;\n",
       "    }\n",
       "</style>\n",
       "<table border=\"1\" class=\"dataframe\">\n",
       "  <thead>\n",
       "    <tr style=\"text-align: right;\">\n",
       "      <th></th>\n",
       "      <th></th>\n",
       "      <th>transactionId</th>\n",
       "      <th>visitorId</th>\n",
       "      <th>date</th>\n",
       "      <th>revenue</th>\n",
       "      <th>group</th>\n",
       "    </tr>\n",
       "  </thead>\n",
       "  <tbody>\n",
       "    <tr>\n",
       "      <td>0</td>\n",
       "      <td>0</td>\n",
       "      <td>900025958</td>\n",
       "      <td>5114589</td>\n",
       "      <td>2019-08-16</td>\n",
       "      <td>570</td>\n",
       "      <td>B</td>\n",
       "    </tr>\n",
       "    <tr>\n",
       "      <td>1</td>\n",
       "      <td>0</td>\n",
       "      <td>1887336629</td>\n",
       "      <td>6958315</td>\n",
       "      <td>2019-08-04</td>\n",
       "      <td>1490</td>\n",
       "      <td>B</td>\n",
       "    </tr>\n",
       "    <tr>\n",
       "      <td rowspan=\"2\" valign=\"top\">2</td>\n",
       "      <td>0</td>\n",
       "      <td>3679129301</td>\n",
       "      <td>8300375</td>\n",
       "      <td>2019-08-01</td>\n",
       "      <td>10510</td>\n",
       "      <td>B</td>\n",
       "    </tr>\n",
       "    <tr>\n",
       "      <td>1</td>\n",
       "      <td>4293855558</td>\n",
       "      <td>8300375</td>\n",
       "      <td>2019-08-07</td>\n",
       "      <td>1790</td>\n",
       "      <td>A</td>\n",
       "    </tr>\n",
       "    <tr>\n",
       "      <td>3</td>\n",
       "      <td>0</td>\n",
       "      <td>797272237</td>\n",
       "      <td>11685486</td>\n",
       "      <td>2019-08-23</td>\n",
       "      <td>6201</td>\n",
       "      <td>A</td>\n",
       "    </tr>\n",
       "    <tr>\n",
       "      <td>...</td>\n",
       "      <td>...</td>\n",
       "      <td>...</td>\n",
       "      <td>...</td>\n",
       "      <td>...</td>\n",
       "      <td>...</td>\n",
       "      <td>...</td>\n",
       "    </tr>\n",
       "    <tr>\n",
       "      <td>1026</td>\n",
       "      <td>1</td>\n",
       "      <td>1216533772</td>\n",
       "      <td>4266935830</td>\n",
       "      <td>2019-08-29</td>\n",
       "      <td>78990</td>\n",
       "      <td>B</td>\n",
       "    </tr>\n",
       "    <tr>\n",
       "      <td>1027</td>\n",
       "      <td>0</td>\n",
       "      <td>51443164</td>\n",
       "      <td>4278982564</td>\n",
       "      <td>2019-08-05</td>\n",
       "      <td>24744</td>\n",
       "      <td>A</td>\n",
       "    </tr>\n",
       "    <tr>\n",
       "      <td>1028</td>\n",
       "      <td>0</td>\n",
       "      <td>2724331495</td>\n",
       "      <td>4279090005</td>\n",
       "      <td>2019-08-04</td>\n",
       "      <td>6716</td>\n",
       "      <td>B</td>\n",
       "    </tr>\n",
       "    <tr>\n",
       "      <td>1029</td>\n",
       "      <td>0</td>\n",
       "      <td>3796325351</td>\n",
       "      <td>4281247801</td>\n",
       "      <td>2019-08-25</td>\n",
       "      <td>2640</td>\n",
       "      <td>B</td>\n",
       "    </tr>\n",
       "    <tr>\n",
       "      <td>1030</td>\n",
       "      <td>0</td>\n",
       "      <td>836739159</td>\n",
       "      <td>4283872382</td>\n",
       "      <td>2019-08-22</td>\n",
       "      <td>3806</td>\n",
       "      <td>B</td>\n",
       "    </tr>\n",
       "  </tbody>\n",
       "</table>\n",
       "<p>1197 rows × 5 columns</p>\n",
       "</div>"
      ],
      "text/plain": [
       "        transactionId   visitorId       date  revenue group\n",
       "0    0  900025958      5114589    2019-08-16  570      B   \n",
       "1    0  1887336629     6958315    2019-08-04  1490     B   \n",
       "2    0  3679129301     8300375    2019-08-01  10510    B   \n",
       "     1  4293855558     8300375    2019-08-07  1790     A   \n",
       "3    0  797272237      11685486   2019-08-23  6201     A   \n",
       "...           ...           ...          ...   ...    ..   \n",
       "1026 1  1216533772     4266935830 2019-08-29  78990    B   \n",
       "1027 0  51443164       4278982564 2019-08-05  24744    A   \n",
       "1028 0  2724331495     4279090005 2019-08-04  6716     B   \n",
       "1029 0  3796325351     4281247801 2019-08-25  2640     B   \n",
       "1030 0  836739159      4283872382 2019-08-22  3806     B   \n",
       "\n",
       "[1197 rows x 5 columns]"
      ]
     },
     "execution_count": 4,
     "metadata": {},
     "output_type": "execute_result"
    }
   ],
   "source": [
    "orders = pd.read_csv('/datasets/orders.csv')\n",
    "visitors = pd.read_csv('/datasets/visitors.csv')\n",
    "\n",
    "orders['date'] = orders['date'].astype('datetime64')\n",
    "visitors['date'] = visitors['date'].astype('datetime64')\n",
    "orders = orders.drop_duplicates()\n",
    "visitors = visitors.drop_duplicates()\n",
    "\n",
    "orders2 = orders.groupby(\n",
    "    'visitorId', \n",
    "    as_index=False\n",
    ").apply(lambda x: x.reset_index(drop = True)\n",
    "       )\n",
    "\n",
    "\n",
    "orders.info()\n",
    "visitors.info()\n",
    "orders2"
   ]
  },
  {
   "cell_type": "markdown",
   "metadata": {},
   "source": [
    "<a id = \"part3.1.1\"></a>\n",
    "### Вывод по предобработке данных\n",
    "- приведены типы дат в двух таблицах\n",
    "- обнаружены 1197-1030 = 167 пользователей, которые фигурируют в 2х группах одновременно. Однако, так как в таблице visits нет ID пользователей, убирать их смысла нет - во второй таблице они останутся. О данном факте необходимо сообщить сотрудникам, предоставившим данные, чтобы ошибка не повторялась впредь."
   ]
  },
  {
   "cell_type": "code",
   "execution_count": 5,
   "metadata": {},
   "outputs": [
    {
     "data": {
      "text/html": [
       "<div>\n",
       "<style scoped>\n",
       "    .dataframe tbody tr th:only-of-type {\n",
       "        vertical-align: middle;\n",
       "    }\n",
       "\n",
       "    .dataframe tbody tr th {\n",
       "        vertical-align: top;\n",
       "    }\n",
       "\n",
       "    .dataframe thead th {\n",
       "        text-align: right;\n",
       "    }\n",
       "</style>\n",
       "<table border=\"1\" class=\"dataframe\">\n",
       "  <thead>\n",
       "    <tr style=\"text-align: right;\">\n",
       "      <th></th>\n",
       "      <th>date</th>\n",
       "      <th>group</th>\n",
       "      <th>orders</th>\n",
       "      <th>buyers</th>\n",
       "      <th>revenue</th>\n",
       "      <th>visitors</th>\n",
       "    </tr>\n",
       "  </thead>\n",
       "  <tbody>\n",
       "    <tr>\n",
       "      <td>0</td>\n",
       "      <td>2019-08-01</td>\n",
       "      <td>A</td>\n",
       "      <td>24</td>\n",
       "      <td>20</td>\n",
       "      <td>148579</td>\n",
       "      <td>719</td>\n",
       "    </tr>\n",
       "    <tr>\n",
       "      <td>1</td>\n",
       "      <td>2019-08-01</td>\n",
       "      <td>B</td>\n",
       "      <td>21</td>\n",
       "      <td>20</td>\n",
       "      <td>101217</td>\n",
       "      <td>713</td>\n",
       "    </tr>\n",
       "    <tr>\n",
       "      <td>2</td>\n",
       "      <td>2019-08-02</td>\n",
       "      <td>A</td>\n",
       "      <td>44</td>\n",
       "      <td>38</td>\n",
       "      <td>242401</td>\n",
       "      <td>1338</td>\n",
       "    </tr>\n",
       "    <tr>\n",
       "      <td>3</td>\n",
       "      <td>2019-08-02</td>\n",
       "      <td>B</td>\n",
       "      <td>45</td>\n",
       "      <td>43</td>\n",
       "      <td>266748</td>\n",
       "      <td>1294</td>\n",
       "    </tr>\n",
       "    <tr>\n",
       "      <td>4</td>\n",
       "      <td>2019-08-03</td>\n",
       "      <td>A</td>\n",
       "      <td>68</td>\n",
       "      <td>62</td>\n",
       "      <td>354874</td>\n",
       "      <td>1845</td>\n",
       "    </tr>\n",
       "    <tr>\n",
       "      <td>...</td>\n",
       "      <td>...</td>\n",
       "      <td>...</td>\n",
       "      <td>...</td>\n",
       "      <td>...</td>\n",
       "      <td>...</td>\n",
       "      <td>...</td>\n",
       "    </tr>\n",
       "    <tr>\n",
       "      <td>57</td>\n",
       "      <td>2019-08-29</td>\n",
       "      <td>B</td>\n",
       "      <td>596</td>\n",
       "      <td>544</td>\n",
       "      <td>5559398</td>\n",
       "      <td>17708</td>\n",
       "    </tr>\n",
       "    <tr>\n",
       "      <td>58</td>\n",
       "      <td>2019-08-30</td>\n",
       "      <td>A</td>\n",
       "      <td>545</td>\n",
       "      <td>493</td>\n",
       "      <td>4022970</td>\n",
       "      <td>18037</td>\n",
       "    </tr>\n",
       "    <tr>\n",
       "      <td>59</td>\n",
       "      <td>2019-08-30</td>\n",
       "      <td>B</td>\n",
       "      <td>620</td>\n",
       "      <td>567</td>\n",
       "      <td>5774631</td>\n",
       "      <td>18198</td>\n",
       "    </tr>\n",
       "    <tr>\n",
       "      <td>60</td>\n",
       "      <td>2019-08-31</td>\n",
       "      <td>A</td>\n",
       "      <td>557</td>\n",
       "      <td>503</td>\n",
       "      <td>4084803</td>\n",
       "      <td>18736</td>\n",
       "    </tr>\n",
       "    <tr>\n",
       "      <td>61</td>\n",
       "      <td>2019-08-31</td>\n",
       "      <td>B</td>\n",
       "      <td>640</td>\n",
       "      <td>586</td>\n",
       "      <td>5907760</td>\n",
       "      <td>18916</td>\n",
       "    </tr>\n",
       "  </tbody>\n",
       "</table>\n",
       "<p>62 rows × 6 columns</p>\n",
       "</div>"
      ],
      "text/plain": [
       "         date group  orders  buyers  revenue  visitors\n",
       "0  2019-08-01  A     24      20      148579   719     \n",
       "1  2019-08-01  B     21      20      101217   713     \n",
       "2  2019-08-02  A     44      38      242401   1338    \n",
       "3  2019-08-02  B     45      43      266748   1294    \n",
       "4  2019-08-03  A     68      62      354874   1845    \n",
       "..        ... ..     ..      ..         ...    ...    \n",
       "57 2019-08-29  B     596     544     5559398  17708   \n",
       "58 2019-08-30  A     545     493     4022970  18037   \n",
       "59 2019-08-30  B     620     567     5774631  18198   \n",
       "60 2019-08-31  A     557     503     4084803  18736   \n",
       "61 2019-08-31  B     640     586     5907760  18916   \n",
       "\n",
       "[62 rows x 6 columns]"
      ]
     },
     "execution_count": 5,
     "metadata": {},
     "output_type": "execute_result"
    }
   ],
   "source": [
    "datesGroups = orders[['date','group']].drop_duplicates()\n",
    "\n",
    "#агрегированные комулятивные данные по дням о заказах\n",
    "ordersAggregated = datesGroups.apply(\n",
    "    lambda x: orders[np.logical_and(\n",
    "        orders['date'] <= x['date'], \n",
    "        orders['group'] == x['group']\n",
    "    )].agg(\n",
    "        {'date' : 'max',\n",
    "         'group' : 'max',\n",
    "         'transactionId' : pd.Series.nunique,\n",
    "         'visitorId' : pd.Series.nunique,\n",
    "         'revenue' : 'sum'}\n",
    "    ), axis=1\n",
    ").sort_values(by=['date','group'])\n",
    "\n",
    "#агрегированные комулятивные данные по дням о посетителях\n",
    "visitorsAggregated = datesGroups.apply(\n",
    "    lambda x: visitors[np.logical_and(\n",
    "        visitors['date'] <= x['date'], \n",
    "        visitors['group'] == x['group']\n",
    "    )].agg(\n",
    "        {'date' : 'max',\n",
    "         'group' : 'max',\n",
    "         'visitors' : 'sum'}\n",
    "    ), axis=1\n",
    ").sort_values(by=['date','group'])\n",
    "\n",
    "cumulativeData = ordersAggregated.merge(\n",
    "    visitorsAggregated, \n",
    "    left_on=['date', 'group'], \n",
    "    right_on=['date', 'group']\n",
    ")\n",
    "cumulativeData.columns = ['date', 'group', 'orders', 'buyers', 'revenue', 'visitors']\n",
    "cumulativeData"
   ]
  },
  {
   "cell_type": "code",
   "execution_count": 6,
   "metadata": {},
   "outputs": [
    {
     "name": "stderr",
     "output_type": "stream",
     "text": [
      "/opt/conda/lib/python3.7/site-packages/pandas/plotting/_matplotlib/converter.py:103: FutureWarning: Using an implicitly registered datetime converter for a matplotlib plotting method. The converter was registered by pandas on import. Future versions of pandas will require you to explicitly register matplotlib converters.\n",
      "\n",
      "To register the converters:\n",
      "\t>>> from pandas.plotting import register_matplotlib_converters\n",
      "\t>>> register_matplotlib_converters()\n",
      "  warnings.warn(msg, FutureWarning)\n"
     ]
    },
    {
     "data": {
      "image/png": "[encoded data removed]",
      "text/plain": [
       "<Figure size 648x288 with 1 Axes>"
      ]
     },
     "metadata": {
      "needs_background": "light"
     },
     "output_type": "display_data"
    },
    {
     "data": {
      "image/png": "[encoded data removed]",
      "text/plain": [
       "<Figure size 648x288 with 1 Axes>"
      ]
     },
     "metadata": {
      "needs_background": "light"
     },
     "output_type": "display_data"
    },
    {
     "data": {
      "image/png": "[encoded data removed]",
      "text/plain": [
       "<Figure size 648x288 with 1 Axes>"
      ]
     },
     "metadata": {
      "needs_background": "light"
     },
     "output_type": "display_data"
    }
   ],
   "source": [
    "cumulativeRevenueA = cumulativeData[cumulativeData['group'] == 'A'][['date', 'revenue', 'orders']]\n",
    "cumulativeRevenueB = cumulativeData[cumulativeData['group'] == 'B'][['date', 'revenue', 'orders']]\n",
    "\n",
    "\n",
    "#выручка\n",
    "plt.figure(figsize=(9,4))\n",
    "plt.plot(cumulativeRevenueA['date'], cumulativeRevenueA['revenue'], label='A')\n",
    "plt.plot(cumulativeRevenueB['date'], cumulativeRevenueB['revenue'], label='B')\n",
    "plt.title('Кумулятивная выручка по группам')\n",
    "plt.xlabel('Дата')\n",
    "plt.ylabel('Выручка')\n",
    "plt.xticks(rotation=55)\n",
    "\n",
    "plt.legend()\n",
    "plt.show()\n",
    "\n",
    "#средний чек\n",
    "plt.figure(figsize=(9,4))\n",
    "plt.plot(cumulativeRevenueA['date'], cumulativeRevenueA['revenue']/cumulativeRevenueA['orders'], label='A')\n",
    "plt.plot(cumulativeRevenueB['date'], cumulativeRevenueB['revenue']/cumulativeRevenueB['orders'], label='B')\n",
    "plt.title('Кумулятивный средний чек по группам')\n",
    "plt.xlabel('Дата')\n",
    "plt.ylabel('Средний чек')\n",
    "plt.xticks(rotation=55)\n",
    "plt.legend()\n",
    "plt.show()\n",
    "\n",
    "\n",
    "mergedCumulativeRevenue = cumulativeRevenueA.merge(\n",
    "    cumulativeRevenueB, \n",
    "    left_on='date', \n",
    "    right_on='date', \n",
    "    how='left', \n",
    "    suffixes=['A', 'B']\n",
    ")\n",
    "plt.figure(figsize=(9,4))\n",
    "plt.plot(mergedCumulativeRevenue['date'],(\n",
    "    mergedCumulativeRevenue['revenueB']/mergedCumulativeRevenue['ordersB']\n",
    ")/(mergedCumulativeRevenue['revenueA']/mergedCumulativeRevenue['ordersA'])-1\n",
    "        )\n",
    "plt.axhline(y=0, color='black', linestyle='--')\n",
    "plt.xticks(rotation=55)\n",
    "plt.title('Относительное изменение кумулятивного среднего чека группы B к группе A')\n",
    "plt.xlabel('Дата')\n",
    "plt.ylabel('Средний чек')\n",
    "plt.show()\n",
    "\n"
   ]
  },
  {
   "cell_type": "code",
   "execution_count": 7,
   "metadata": {},
   "outputs": [
    {
     "data": {
      "image/png": "[encoded data removed]",
      "text/plain": [
       "<Figure size 648x288 with 1 Axes>"
      ]
     },
     "metadata": {
      "needs_background": "light"
     },
     "output_type": "display_data"
    },
    {
     "data": {
      "image/png": "[encoded data removed]",
      "text/plain": [
       "<Figure size 648x288 with 1 Axes>"
      ]
     },
     "metadata": {
      "needs_background": "light"
     },
     "output_type": "display_data"
    }
   ],
   "source": [
    "#конверсия\n",
    "cumulativeData['conversion'] = cumulativeData['orders']/cumulativeData['visitors']\n",
    "cumulativeDataA = cumulativeData[cumulativeData['group'] == 'A']\n",
    "cumulativeDataB = cumulativeData[cumulativeData['group'] == 'B']\n",
    "\n",
    "\n",
    "plt.figure(figsize=(9,4))\n",
    "plt.xticks(rotation=55)\n",
    "plt.plot(cumulativeDataA['date'], cumulativeDataA['conversion'], label='A')\n",
    "plt.plot(cumulativeDataB['date'], cumulativeDataB['conversion'], label='B')\n",
    "plt.title('Кумулятивная конверсия по группам')\n",
    "plt.xlabel('Дата')\n",
    "plt.ylabel('Конверсия')\n",
    "plt.legend()\n",
    "plt.show()\n",
    "\n",
    "#относительное различие кумулятивных конверсий\n",
    "mergedCumulativeConversions = cumulativeDataA[['date','conversion']].merge(\n",
    "    cumulativeDataB[['date','conversion']], \n",
    "    left_on='date', \n",
    "    right_on='date', \n",
    "    how='left', \n",
    "    suffixes=['A', 'B'])\n",
    "plt.figure(figsize=(9,4))\n",
    "plt.xticks(rotation=55)\n",
    "plt.plot(\n",
    "    mergedCumulativeConversions['date'], \n",
    "    mergedCumulativeConversions['conversionB']/mergedCumulativeConversions['conversionA']-1\n",
    ")\n",
    "plt.title(\"Относительный прирост конверсии группы B относительно группы A\")\n",
    "plt.xlabel('Дата')\n",
    "plt.ylabel('Конверсия')\n",
    "plt.axhline(y=0.1, color='black', linestyle='--')\n",
    "plt.show()\n"
   ]
  },
  {
   "cell_type": "markdown",
   "metadata": {},
   "source": [
    "<a id = \"part3.1\"></a>\n",
    "### Вывод\n",
    "- из графика кумулятивной выручки по группам видно, что выручка в группе В после некоторого времени превышает выручку в группе А, однако в группе В присутствует сильный вброс - очень дорогая покупка, которая значительно влияет на график. \n",
    "- из графика кумулятивного среднего чека по группам видно, что за время теста оба средних чека растут, в группе В присутсвует сильный выброс, затем средний чек группы В постепенно снижается, средний чек в группе А имеет тенденцию к росту.\n",
    "- относительное изменение куммулятивного среднего чека группы В к А показывает скачки в нескольких точках, что свидетельствует об уже обнаруженных на предыдущих графиках вбросах - дорогих покупках.\n",
    "\n",
    "- на графике кумулятивной конверсии по группам видно, что конверсия в группе В стабилизируется вокруг более высокого значения.\n",
    "- это же видно на графике относительного прироста, кумулятивная конверсия в группе В на 10% и более выше, чем в группе А, показывает тенденцию к дальнейшему росту."
   ]
  },
  {
   "cell_type": "markdown",
   "metadata": {},
   "source": [
    "<a id = \"part3.2\"></a>\n",
    "### Графики и персентили"
   ]
  },
  {
   "cell_type": "code",
   "execution_count": 8,
   "metadata": {},
   "outputs": [
    {
     "data": {
      "image/png": "[encoded data removed]",
      "text/plain": [
       "<Figure size 648x288 with 1 Axes>"
      ]
     },
     "metadata": {
      "needs_background": "light"
     },
     "output_type": "display_data"
    },
    {
     "name": "stdout",
     "output_type": "stream",
     "text": [
      "95-й и 99-й перцентили количества заказов на пользователя - [2. 4.]\n"
     ]
    },
    {
     "data": {
      "image/png": "[encoded data removed]",
      "text/plain": [
       "<Figure size 648x288 with 1 Axes>"
      ]
     },
     "metadata": {
      "needs_background": "light"
     },
     "output_type": "display_data"
    },
    {
     "data": {
      "image/png": "[encoded data removed]",
      "text/plain": [
       "<Figure size 648x288 with 1 Axes>"
      ]
     },
     "metadata": {
      "needs_background": "light"
     },
     "output_type": "display_data"
    },
    {
     "name": "stdout",
     "output_type": "stream",
     "text": [
      "95-й и 99-й перцентили стоимости заказов - [28000.  58233.2]\n"
     ]
    }
   ],
   "source": [
    "#точечный график количества заказов по пользователям\n",
    "ordersByUsers = (\n",
    "    orders.drop(['group', 'revenue', 'date'], axis=1)\n",
    "    .groupby('visitorId', as_index=False)\n",
    "    .agg({'transactionId': pd.Series.nunique})\n",
    ")\n",
    "\n",
    "ordersByUsers.columns = ['userId', 'orders']\n",
    "plt.figure(figsize=(9,4))\n",
    "plt.title('График количества заказов по пользователям')\n",
    "plt.xlabel('Пользователи')\n",
    "plt.ylabel('Количество заказов')\n",
    "plt.scatter(pd.Series(range(0,len(ordersByUsers))), ordersByUsers['orders']) \n",
    "plt.show()\n",
    "print('95-й и 99-й перцентили количества заказов на пользователя - {}'.format(\n",
    "    np.percentile(ordersByUsers['orders'], [95, 99]))\n",
    "     )\n",
    "\n",
    "\n",
    "#точечный график стоимостей заказов\n",
    "plt.figure(figsize=(9,4))\n",
    "plt.title('График стоимостей заказов')\n",
    "plt.xlabel('Пользователи')\n",
    "plt.ylabel('Стоимость заказов')\n",
    "plt.scatter(pd.Series(range(0,len(orders))), orders['revenue']) \n",
    "plt.show()\n",
    "plt.figure(figsize=(9,4))\n",
    "\n",
    "plt.title('График стоимостей заказов')\n",
    "plt.xlabel('Пользователи')\n",
    "plt.ylabel('Стоимость заказов')\n",
    "plt.scatter(pd.Series(range(0,len(orders))), orders['revenue']) \n",
    "plt.ylim(0, 200000)\n",
    "plt.show()\n",
    "print('95-й и 99-й перцентили стоимости заказов - {}'.format(np.percentile(orders['revenue'], [95, 99])))\n"
   ]
  },
  {
   "cell_type": "markdown",
   "metadata": {},
   "source": [
    "<a id = \"part3.3\"></a>\n",
    "### Вывод:\n",
    "- По графику количества заказов по пользователям видно, что присутствуют аномалии, нужно выбрать верхнюю границу. Для этого посчитаны 95-й и 99-й персентили, равные 2.0 и 4.0 соответственно. Выберем границу в 4 заказа, оставив 95% значений.\n",
    "- По графику стоимостей заказов видно, что присутствует пара очень больших выбросов. Посчитаем 95-й и 99-й персентили - 28000.0 и 58233.2 соответственно, изменим масштаб графика, чтобы лучше визуально определить границу. Выберем в качестве верхней границы стоимость в 28000.00, оставив 95% значений."
   ]
  },
  {
   "cell_type": "markdown",
   "metadata": {},
   "source": [
    "<a id = \"part3.4\"></a>\n",
    "###  Расчет статистической значимости различий в конверсии между группами и в среднем чеке по «сырым» данным"
   ]
  },
  {
   "cell_type": "code",
   "execution_count": 9,
   "metadata": {},
   "outputs": [
    {
     "name": "stdout",
     "output_type": "stream",
     "text": [
      "Рассчитаем статистическую значимость различия в конверсии между группами:\n",
      "Значение p-value критерием Манна-Уитни 0.017\n",
      "Относительный выигрыш группы B 0.138\n",
      "\n",
      "Рассчитаем статистическую значимость различий в среднем чеке между группами:\n",
      "Значение p-value критерием Манна-Уитни 0.729\n",
      "Относительный выигрыш группы B 0.259\n"
     ]
    }
   ],
   "source": [
    "visitorsADaily = visitors[visitors['group'] == 'A'][['date', 'visitors']]\n",
    "visitorsADaily.columns = ['date', 'visitorsPerDateA']\n",
    "\n",
    "visitorsBDaily = visitors[visitors['group'] == 'B'][['date', 'visitors']]\n",
    "visitorsBDaily.columns = ['date', 'visitorsPerDateB']\n",
    "\n",
    "visitorsACummulative = visitorsADaily.apply(\n",
    "    lambda x: visitorsADaily[visitorsADaily['date'] <= x['date']].agg(\n",
    "        {'date': 'max', 'visitorsPerDateA': 'sum'}\n",
    "    ),\n",
    "    axis=1,\n",
    ")\n",
    "visitorsBCummulative = visitorsBDaily.apply(\n",
    "    lambda x: visitorsBDaily[visitorsBDaily['date'] <= x['date']].agg(\n",
    "        {'date': 'max', 'visitorsPerDateB': 'sum'}\n",
    "    ),\n",
    "    axis=1,\n",
    ")\n",
    "\n",
    "visitorsACummulative.columns = ['date', 'visitorsCummulativeA']\n",
    "visitorsBCummulative.columns = ['date', 'visitorsCummulativeB']\n",
    "\n",
    "ordersADaily = (\n",
    "    orders[orders['group'] == 'A'][['date', 'transactionId', 'visitorId', 'revenue']]\n",
    "    .groupby('date', as_index=False)\n",
    "    .agg({'transactionId': pd.Series.nunique, 'revenue': 'sum'})\n",
    ")\n",
    "ordersBDaily = (\n",
    "    orders[orders['group'] == 'B'][['date', 'transactionId', 'visitorId', 'revenue']]\n",
    "    .groupby('date', as_index=False)\n",
    "    .agg({'transactionId': pd.Series.nunique, 'revenue': 'sum'})\n",
    ")\n",
    "\n",
    "ordersADaily.columns = ['date', 'ordersPerDateA', 'revenuePerDateA']\n",
    "ordersBDaily.columns = ['date', 'ordersPerDateB', 'revenuePerDateB']\n",
    "\n",
    "ordersACummulative = ordersADaily.apply(\n",
    "    lambda x: ordersADaily[ordersADaily['date'] <= x['date']].agg(\n",
    "        {'date': 'max', 'ordersPerDateA': 'sum', 'revenuePerDateA': 'sum'}\n",
    "    ),\n",
    "    axis=1,\n",
    ").sort_values(by=['date'])\n",
    "\n",
    "ordersBCummulative = ordersBDaily.apply(\n",
    "    lambda x: ordersBDaily[ordersBDaily['date'] <= x['date']].agg(\n",
    "        {'date': 'max', 'ordersPerDateB': 'sum', 'revenuePerDateB': 'sum'}\n",
    "    ),\n",
    "    axis=1,\n",
    ").sort_values(by=['date'])\n",
    "\n",
    "ordersACummulative.columns = ['date', 'ordersCummulativeA', 'revenueCummulativeA',]\n",
    "ordersBCummulative.columns = ['date', 'ordersCummulativeB', 'revenueCummulativeB']\n",
    "\n",
    "data = (\n",
    "    ordersADaily.merge(\n",
    "        ordersBDaily, left_on='date', right_on='date', how='left'\n",
    "    )\n",
    "    .merge(ordersACummulative, left_on='date', right_on='date', how='left')\n",
    "    .merge(ordersBCummulative, left_on='date', right_on='date', how='left')\n",
    "    .merge(visitorsADaily, left_on='date', right_on='date', how='left')\n",
    "    .merge(visitorsBDaily, left_on='date', right_on='date', how='left')\n",
    "    .merge(visitorsACummulative, left_on='date', right_on='date', how='left')\n",
    "    .merge(visitorsBCummulative, left_on='date', right_on='date', how='left')\n",
    ")\n",
    "\n",
    "ordersByUsersA = (\n",
    "    orders[orders['group'] == 'A']\n",
    "    .groupby('visitorId', as_index=False)\n",
    "    .agg({'transactionId': pd.Series.nunique})\n",
    ")\n",
    "ordersByUsersA.columns = ['userId', 'orders']\n",
    "\n",
    "ordersByUsersB = (\n",
    "    orders[orders['group'] == 'B']\n",
    "    .groupby('visitorId', as_index=False)\n",
    "    .agg({'transactionId': pd.Series.nunique})\n",
    ")\n",
    "ordersByUsersB.columns = ['userId', 'orders']\n",
    "\n",
    "sampleA = pd.concat(\n",
    "    [ordersByUsersA['orders'],pd.Series(\n",
    "        0, index=np.arange(data['visitorsPerDateA'].sum() - len(ordersByUsersA['orders'])),\n",
    "        name='orders')],axis=0\n",
    ")\n",
    "\n",
    "sampleB = pd.concat(\n",
    "    [ordersByUsersB['orders'],pd.Series(\n",
    "        0, index=np.arange(data['visitorsPerDateB'].sum() - len(ordersByUsersB['orders'])),\n",
    "        name='orders')],axis=0\n",
    ")\n",
    "\n",
    "#Нулевая гипотеза - нет статистически значимых различий между группами по конверсии\n",
    "#Альтернативная - статистически значимые различия есть\n",
    "print('Рассчитаем статистическую значимость различия в конверсии между группами:')\n",
    "print(\"Значение p-value критерием Манна-Уитни {0:.3f}\".format(\n",
    "    stats.mannwhitneyu(sampleA, sampleB, alternative = 'two-sided')[1]\n",
    "))\n",
    "print(\"Относительный выигрыш группы B {0:.3f}\".format(sampleB.mean() / sampleA.mean() - 1))\n",
    "\n",
    "print()\n",
    "\n",
    "#Нулевая гипотеза - нет статистически значимых различий между группами по среднему чеку\n",
    "#Альтернативная - статистически значимые различия есть\n",
    "print('Рассчитаем статистическую значимость различий в среднем чеке между группами:')\n",
    "print('Значение p-value критерием Манна-Уитни {0:.3f}'.format(\n",
    "    stats.mannwhitneyu(\n",
    "        orders[orders['group']=='A']['revenue'], \n",
    "        orders[orders['group']=='B']['revenue'],\n",
    "        alternative = 'two-sided'\n",
    "    )[1]))\n",
    "print('Относительный выигрыш группы B {0:.3f}'.format(\n",
    "    orders[orders['group']=='B']['revenue'].mean()/orders[orders['group']=='A']['revenue'].mean()-1)\n",
    "     )"
   ]
  },
  {
   "cell_type": "markdown",
   "metadata": {},
   "source": [
    "<a id = \"part3.5\"></a>\n",
    "### Вывод\n",
    "\n",
    "- Нулевая гипотеза - нет статистически значивых различий между группами по конверсии. \n",
    "- p-value = 0.017 меньше статистической значимости 0.05, значит нулевую гипотезу о том, что статистически значимых различий в конверсии между группами нет, отвергаем. Статистически значимые различия в конверсиях групп есть, это было видно и по графикам. Относительный выигрыш группы B составляет 13.8%.\n",
    "- \n",
    "- Нулевая гипотеза - нет статистически значимых различий между группами по среднему чеку.\n",
    "- p-value равное 0.729, что значительно больше 0.05. Значит, причин отвергать нулевую гипотезу и считать, что в среднем чеке есть различия, нет. Cредний чек группы B больше чем на четверть выше среднего чека группы A, скорее всего из-за наномалий. Это тоже было видно на графике. Проверим это далее, убрав аномальные значения."
   ]
  },
  {
   "cell_type": "markdown",
   "metadata": {},
   "source": [
    "<a id = \"part3.6\"></a>\n",
    "###  Расчет статистической значимости различий в конверсии между группами и в среднем чеке по очищенным данным"
   ]
  },
  {
   "cell_type": "code",
   "execution_count": 10,
   "metadata": {},
   "outputs": [
    {
     "name": "stdout",
     "output_type": "stream",
     "text": [
      "1099    148427295\n",
      "18      199603092\n",
      "928     204675465\n",
      "23      237748145\n",
      "684     358944393\n",
      "dtype: int64\n",
      "(63,)\n"
     ]
    }
   ],
   "source": [
    "#выделим пользователей с покупками больше 3, и дороже 28000\n",
    "usersWithManyOrders = pd.concat(\n",
    "    [ordersByUsersA[ordersByUsersA['orders'] > 3]['userId'], \n",
    "     ordersByUsersB[ordersByUsersB['orders'] > 3]['userId']],axis=0\n",
    ")\n",
    "usersWithExpensiveOrders = orders[orders['revenue'] > 28000]['visitorId']\n",
    "abnormalUsers = (pd.concat([usersWithManyOrders, usersWithExpensiveOrders], axis=0).drop_duplicates().sort_values())\n",
    "print(abnormalUsers.head(5))\n",
    "print(abnormalUsers.shape)"
   ]
  },
  {
   "cell_type": "markdown",
   "metadata": {},
   "source": [
    "Всего 63 пользователя с аномальными данными. Посчитаем статистическую значимость конверсии и среднего чека для групп А и В."
   ]
  },
  {
   "cell_type": "code",
   "execution_count": 11,
   "metadata": {},
   "outputs": [
    {
     "name": "stdout",
     "output_type": "stream",
     "text": [
      "Рассчитаем статистическую значимость различия в конверсии между группами c очищенными данными:\n",
      "Значение p-value критерием Манна-Уитни 0.018\n",
      "Относительный выигрыш группы B 0.148\n",
      "\n",
      "Рассчитаем статистическую значимость различий в среднем чеке между группами с очищенными данными:\n",
      "Значение p-value критерием Манна-Уитни 0.977\n",
      "Относительный выигрыш группы B -0.017\n"
     ]
    }
   ],
   "source": [
    "sampleAFiltered = pd.concat(\n",
    "    [\n",
    "        ordersByUsersA[\n",
    "            np.logical_not(ordersByUsersA['userId'].isin(abnormalUsers))\n",
    "        ]['orders'],\n",
    "        pd.Series(\n",
    "            0,\n",
    "            index=np.arange(\n",
    "                data['visitorsPerDateA'].sum() - len(ordersByUsersA['orders'])\n",
    "            ),\n",
    "            name='orders',\n",
    "        ),\n",
    "    ],\n",
    "    axis=0,\n",
    ")\n",
    "\n",
    "sampleBFiltered = pd.concat(\n",
    "    [\n",
    "        ordersByUsersB[\n",
    "            np.logical_not(ordersByUsersB['userId'].isin(abnormalUsers))\n",
    "        ]['orders'],\n",
    "        pd.Series(\n",
    "            0,\n",
    "            index=np.arange(\n",
    "                data['visitorsPerDateB'].sum() - len(ordersByUsersB['orders'])\n",
    "            ),\n",
    "            name='orders',\n",
    "        ),\n",
    "    ],\n",
    "    axis=0,\n",
    ")\n",
    "#Нулевая гипотеза - нет статистически значимых различий между группами по конверсии\n",
    "#Альтернативная - статистически значимые различия есть\n",
    "print('Рассчитаем статистическую значимость различия в конверсии между группами c очищенными данными:')\n",
    "print('Значение p-value критерием Манна-Уитни {0:.3f}'.format(\n",
    "    stats.mannwhitneyu(\n",
    "        sampleAFiltered, \n",
    "        sampleBFiltered, \n",
    "        alternative = 'two-sided'\n",
    "    )[1]))\n",
    "print('Относительный выигрыш группы B {0:.3f}'.format(\n",
    "    sampleBFiltered.mean()/sampleAFiltered.mean()-1)\n",
    "     )\n",
    "print()\n",
    "#Нулевая гипотеза - нет статистически значимых различий между группами по среднему чеку\n",
    "#Альтернативная - статистически значимые различия есть\n",
    "print('Рассчитаем статистическую значимость различий в среднем чеке между группами с очищенными данными:')\n",
    "print(\n",
    "    'Значение p-value критерием Манна-Уитни {0:.3f}'.format(\n",
    "        stats.mannwhitneyu(\n",
    "            orders[\n",
    "                np.logical_and(\n",
    "                    orders['group'] == 'A',\n",
    "                    np.logical_not(orders['visitorId'].isin(abnormalUsers)),\n",
    "                )\n",
    "            ]['revenue'],\n",
    "            orders[\n",
    "                np.logical_and(\n",
    "                    orders['group'] == 'B',\n",
    "                    np.logical_not(orders['visitorId'].isin(abnormalUsers)),\n",
    "                )\n",
    "            ]['revenue'],\n",
    "            alternative = 'two-sided'\n",
    "        )[1]\n",
    "    )\n",
    ")\n",
    "\n",
    "print(\n",
    "    \"Относительный выигрыш группы B {0:.3f}\".format(\n",
    "        orders[\n",
    "            np.logical_and(\n",
    "                orders['group'] == 'B',\n",
    "                np.logical_not(orders['visitorId'].isin(abnormalUsers)),\n",
    "            )\n",
    "        ]['revenue'].mean()\n",
    "        / orders[\n",
    "            np.logical_and(\n",
    "                orders['group'] == 'A',\n",
    "                np.logical_not(orders['visitorId'].isin(abnormalUsers)),\n",
    "            )\n",
    "        ]['revenue'].mean()\n",
    "        - 1\n",
    "    )\n",
    ")"
   ]
  },
  {
   "cell_type": "markdown",
   "metadata": {},
   "source": [
    "<a id = \"part3.7\"></a>\n",
    "### Выводы\n",
    "\n",
    "- результаты по конверсии изменились незначительно, немного увеличится относительный выигрыш группы В.\n",
    "\n",
    "- по среднему чеку: p-value вырос, разница между группами сместилась в пользу группы А (сырые данные - выигрыш группы В на 13.8%, очищенные данные - выигрыш группы А на 1,7%). Это произошло потому, что мы избавились от очень дорогой покупке в группе В.\n",
    "\n",
    "- Есть статистически значимые различия в конверсии между группами (как очищенными данными, так и сырыми), группа B имеет значения выше на 14-15%, есть тенденция к росту.\n",
    "- Нет статистически значимых различий в среднем чеке между группам, из графика по среднему чеку сделать какие-то определенные выводы нельзя.\n",
    "Тест можно завершать, конверсия в группе В выше!\n",
    "\n",
    "<a id = \"part4\"></a>\n",
    "### Итог\n",
    "\n",
    "1. Перед нами стояла задача по анализу проведенного А/B теста. Анализировали бизнес-метрики и проверяли гипотезы. \n",
    "2. В результате анализа предоставленных данных было выявлено попадание пользователей в обе группы, оно составило 13.8% от количества пользователей. Было принято решение не избавляться от данных пользователей, так как в предоставленной таблице visitors нет данных об ID пользователя, соответственно, избавиться от них в этой таблице не предоставляется возможным. Анализ был проведен с дублированными в группах А и B пользователями.\n",
    "3. Тестируемые изменения принесли результат - конверсия в группе В выше. Тест можно завершать. \n",
    "4. Из графика кумулятивной выручки по группам видно, что выручка в группе В после некоторого времени превышает выручку в группе А, однако в группе В присутствует сильный вброс - очень дорогая покупка, которая значительно влияет на график. \n",
    "5. Из графика кумулятивного среднего чека по группам видно, что за время теста оба средних чека растут, в группе В присутсвует сильный выброс, затем средний чек группы В постепенно снижается, средний чек в группе А имеет тенденцию к росту.\n",
    "6. Относительное изменение куммулятивного среднего чека группы В к А показывает скачки в нескольких точках, что свидетельствует об уже обнаруженных на предыдущих графиках вбросах - дорогих покупках.\n",
    "\n",
    "7. На графике кумулятивной конверсии по группам видно, что конверсия в группе В стабилизируется вокруг более высокого значения.\n",
    "8. Это же видно на графике относительного прироста, кумулятивная конверсия в группе В на 10% и более выше, чем в группе А, показывает тенденцию к дальнейшему росту.\n",
    "\n",
    "9. По графику количества заказов по пользователям видно, что присутствуют аномалии, нужно выбрать верхнюю границу. Для этого посчитаны 95-й и 99-й персентили, равные 2.0 и 4.0 соответственно. Выберем границу в 4 заказа, оставив 95% значений.\n",
    "10. По графику стоимостей заказов видно, что присутствует пара очень больших выбросов. Посчитаем 95-й и 99-й персентили - 28000.0 и 58233.2 соответственно, изменим масштаб графика, чтобы лучше визуально определить границу. Выберем в качестве верхней границы стоимость в 28000.00, оставив 95% значений.\n",
    "\n",
    "11. Посчитайтана статистическая значимость различий в конверсии между группами по «сырым» данным. \n",
    "- Нулевая гипотеза - нет статистически значивых различий между группами по конверсии. \n",
    "- p-value = 0.017 меньше статистической значимости 0.05, значит нулевую гипотезу о том, что статистически значимых различий в конверсии между группами нет, отвергаем. Статистически значимые различия в конверсиях групп есть, это было видно и по графикам. Относительный выигрыш группы B составляет 13.8%.\n",
    "\n",
    "\n",
    "12. Посчитайтана статистическая значимость различий в среднем чеке заказа между группами по «сырым» данным.\n",
    "- Нулевая гипотеза - нет статистически значимых различий между группами по среднему чеку.\n",
    "- p-value равное 0.729, что значительно больше 0.05. Значит, причин отвергать нулевую гипотезу и считать, что в среднем чеке есть различия, нет. Cредний чек группы B больше чем на четверть выше среднего чека группы A, скорее всего из-за аномалий. Это тоже было видно на графике. Проверим это далее, убрав аномальные значения.\n",
    "\n",
    "13. Посчитайтана статистическая значимость различий в конверсии между группами по «очищенным» данным, нелевая и альтернативные гипотезы те же: результаты по конверсии изменились незначительно, немного увеличится относительный выигрыш группы В.\n",
    "\n",
    "14. Посчитайтана статистическая значимость различий в среднем чеке заказа между группами по «очищенным» данным, нулевая и альтернативные гипотезы те же: p-value вырос, разница между группами сместилась в пользу группы А (сырые данные - выигрыш группы В на 13.8%, очищенные данные - выигрыш группы А на 1,7%). Это произошло потому, что мы избавились от очень дорогой покупке в группе В.\n",
    "\n",
    "15. Есть статистически значимые различия в конверсии между группами (как очищенными данными, так и сырыми), группа B имеет значения выше на 14-15%, есть тенденция к росту.\n",
    "16. Нет статистически значимых различий в среднем чеке между группам, из графика по среднему чеку сделать какие-то определенные выводы нельзя. Тест можно завершать, конверсия в группе В выше!"
   ]
  },
  {
   "cell_type": "code",
   "execution_count": null,
   "metadata": {},
   "outputs": [],
   "source": []
  }
 ],
 "metadata": {
  "ExecuteTimeLog": [
   {
    "duration": 734,
    "start_time": "2021-10-13T16:09:51.817Z"
   },
   {
    "duration": 20,
    "start_time": "2021-10-13T16:12:50.047Z"
   },
   {
    "duration": 22,
    "start_time": "2021-10-13T16:12:57.934Z"
   },
   {
    "duration": 23,
    "start_time": "2021-10-13T16:13:53.387Z"
   },
   {
    "duration": 374,
    "start_time": "2021-10-13T16:14:34.042Z"
   },
   {
    "duration": 305,
    "start_time": "2021-10-13T16:14:48.567Z"
   },
   {
    "duration": 22,
    "start_time": "2021-10-13T16:15:39.507Z"
   },
   {
    "duration": 17,
    "start_time": "2021-10-13T16:16:29.260Z"
   },
   {
    "duration": 12,
    "start_time": "2021-10-13T16:16:42.827Z"
   },
   {
    "duration": 15,
    "start_time": "2021-10-13T16:20:57.488Z"
   },
   {
    "duration": 14,
    "start_time": "2021-10-13T16:24:50.370Z"
   },
   {
    "duration": 12,
    "start_time": "2021-10-13T16:25:05.141Z"
   },
   {
    "duration": 13,
    "start_time": "2021-10-13T16:25:12.252Z"
   },
   {
    "duration": 13,
    "start_time": "2021-10-13T16:27:59.531Z"
   },
   {
    "duration": 14,
    "start_time": "2021-10-13T16:28:03.072Z"
   },
   {
    "duration": 23,
    "start_time": "2021-10-13T16:28:05.671Z"
   },
   {
    "duration": 11,
    "start_time": "2021-10-13T16:28:07.690Z"
   },
   {
    "duration": 13,
    "start_time": "2021-10-13T16:28:08.489Z"
   },
   {
    "duration": 534,
    "start_time": "2021-10-16T07:27:14.080Z"
   },
   {
    "duration": 804,
    "start_time": "2021-10-16T07:27:22.204Z"
   },
   {
    "duration": 19,
    "start_time": "2021-10-16T07:27:23.010Z"
   },
   {
    "duration": 30,
    "start_time": "2021-10-16T07:27:23.031Z"
   },
   {
    "duration": 62,
    "start_time": "2021-10-16T07:27:23.064Z"
   },
   {
    "duration": 14,
    "start_time": "2021-10-16T07:27:23.129Z"
   },
   {
    "duration": 679,
    "start_time": "2021-10-16T07:38:44.620Z"
   },
   {
    "duration": 1176,
    "start_time": "2021-10-16T07:39:07.844Z"
   },
   {
    "duration": -31,
    "start_time": "2021-10-16T07:39:09.056Z"
   },
   {
    "duration": -31,
    "start_time": "2021-10-16T07:39:09.057Z"
   },
   {
    "duration": -52,
    "start_time": "2021-10-16T07:39:09.079Z"
   },
   {
    "duration": -52,
    "start_time": "2021-10-16T07:39:09.081Z"
   },
   {
    "duration": 774,
    "start_time": "2021-10-16T07:39:53.821Z"
   },
   {
    "duration": 18,
    "start_time": "2021-10-16T07:39:54.598Z"
   },
   {
    "duration": 17,
    "start_time": "2021-10-16T07:39:54.619Z"
   },
   {
    "duration": 8077,
    "start_time": "2021-10-16T07:39:54.638Z"
   },
   {
    "duration": -154,
    "start_time": "2021-10-16T07:40:02.871Z"
   },
   {
    "duration": 66,
    "start_time": "2021-10-16T07:41:46.386Z"
   },
   {
    "duration": 361,
    "start_time": "2021-10-16T07:42:38.860Z"
   },
   {
    "duration": 392,
    "start_time": "2021-10-16T07:42:46.971Z"
   },
   {
    "duration": 589,
    "start_time": "2021-10-16T07:46:37.168Z"
   },
   {
    "duration": 118,
    "start_time": "2021-10-16T07:51:21.633Z"
   },
   {
    "duration": 1012,
    "start_time": "2021-10-16T07:51:33.535Z"
   },
   {
    "duration": 603,
    "start_time": "2021-10-16T07:51:47.795Z"
   },
   {
    "duration": 316,
    "start_time": "2021-10-16T08:00:31.542Z"
   },
   {
    "duration": 935,
    "start_time": "2021-10-16T08:00:51.305Z"
   },
   {
    "duration": 19,
    "start_time": "2021-10-16T08:00:52.244Z"
   },
   {
    "duration": 18,
    "start_time": "2021-10-16T08:00:52.266Z"
   },
   {
    "duration": 639,
    "start_time": "2021-10-16T08:00:52.286Z"
   },
   {
    "duration": 550,
    "start_time": "2021-10-16T08:00:52.927Z"
   },
   {
    "duration": 451,
    "start_time": "2021-10-16T08:01:17.326Z"
   },
   {
    "duration": 433,
    "start_time": "2021-10-16T08:01:23.987Z"
   },
   {
    "duration": 474,
    "start_time": "2021-10-16T08:02:14.752Z"
   },
   {
    "duration": 666,
    "start_time": "2021-10-16T08:03:43.744Z"
   },
   {
    "duration": 424,
    "start_time": "2021-10-16T08:04:00.867Z"
   },
   {
    "duration": 418,
    "start_time": "2021-10-16T08:04:12.197Z"
   },
   {
    "duration": 444,
    "start_time": "2021-10-16T08:06:58.656Z"
   },
   {
    "duration": 429,
    "start_time": "2021-10-16T08:07:08.623Z"
   },
   {
    "duration": 428,
    "start_time": "2021-10-16T08:08:35.453Z"
   },
   {
    "duration": 417,
    "start_time": "2021-10-16T08:08:43.921Z"
   },
   {
    "duration": 1103,
    "start_time": "2021-10-16T08:11:42.543Z"
   },
   {
    "duration": 896,
    "start_time": "2021-10-16T08:12:24.141Z"
   },
   {
    "duration": 877,
    "start_time": "2021-10-16T08:13:24.173Z"
   },
   {
    "duration": 1168,
    "start_time": "2021-10-16T08:15:24.864Z"
   },
   {
    "duration": 880,
    "start_time": "2021-10-16T08:15:54.036Z"
   },
   {
    "duration": 559,
    "start_time": "2021-10-16T08:17:57.819Z"
   },
   {
    "duration": 945,
    "start_time": "2021-10-16T08:20:01.526Z"
   },
   {
    "duration": 944,
    "start_time": "2021-10-16T08:20:16.349Z"
   },
   {
    "duration": 577,
    "start_time": "2021-10-16T08:21:44.230Z"
   },
   {
    "duration": 631,
    "start_time": "2021-10-16T08:22:04.637Z"
   },
   {
    "duration": 832,
    "start_time": "2021-10-16T08:33:58.898Z"
   },
   {
    "duration": 23,
    "start_time": "2021-10-16T08:33:59.733Z"
   },
   {
    "duration": 17,
    "start_time": "2021-10-16T08:33:59.759Z"
   },
   {
    "duration": 619,
    "start_time": "2021-10-16T08:33:59.778Z"
   },
   {
    "duration": 960,
    "start_time": "2021-10-16T08:34:00.399Z"
   },
   {
    "duration": 8980,
    "start_time": "2021-10-16T08:34:01.362Z"
   },
   {
    "duration": 952,
    "start_time": "2021-10-16T08:34:47.127Z"
   },
   {
    "duration": 17,
    "start_time": "2021-10-16T08:34:48.081Z"
   },
   {
    "duration": 18,
    "start_time": "2021-10-16T08:34:48.102Z"
   },
   {
    "duration": 607,
    "start_time": "2021-10-16T08:34:48.123Z"
   },
   {
    "duration": 907,
    "start_time": "2021-10-16T08:34:48.732Z"
   },
   {
    "duration": 1125,
    "start_time": "2021-10-16T08:34:49.641Z"
   },
   {
    "duration": 478,
    "start_time": "2021-10-16T08:36:17.154Z"
   },
   {
    "duration": 436,
    "start_time": "2021-10-16T08:36:24.995Z"
   },
   {
    "duration": 473,
    "start_time": "2021-10-16T08:36:36.875Z"
   },
   {
    "duration": 677,
    "start_time": "2021-10-16T08:37:22.569Z"
   },
   {
    "duration": 433,
    "start_time": "2021-10-16T08:37:35.717Z"
   },
   {
    "duration": 8,
    "start_time": "2021-10-16T08:56:41.147Z"
   },
   {
    "duration": 6,
    "start_time": "2021-10-16T08:56:42.094Z"
   },
   {
    "duration": 113,
    "start_time": "2021-10-16T08:57:19.607Z"
   },
   {
    "duration": 434,
    "start_time": "2021-10-16T08:57:38.502Z"
   },
   {
    "duration": 451,
    "start_time": "2021-10-16T08:58:10.069Z"
   },
   {
    "duration": 429,
    "start_time": "2021-10-16T08:58:24.006Z"
   },
   {
    "duration": 457,
    "start_time": "2021-10-16T08:58:30.510Z"
   },
   {
    "duration": 517,
    "start_time": "2021-10-16T08:58:38.727Z"
   },
   {
    "duration": 444,
    "start_time": "2021-10-16T09:05:48.140Z"
   },
   {
    "duration": 1044,
    "start_time": "2021-10-16T09:06:47.515Z"
   },
   {
    "duration": 928,
    "start_time": "2021-10-16T09:07:59.351Z"
   },
   {
    "duration": 17,
    "start_time": "2021-10-16T09:08:00.281Z"
   },
   {
    "duration": 17,
    "start_time": "2021-10-16T09:08:00.300Z"
   },
   {
    "duration": 646,
    "start_time": "2021-10-16T09:08:00.319Z"
   },
   {
    "duration": 1460,
    "start_time": "2021-10-16T09:08:00.967Z"
   },
   {
    "duration": 1257,
    "start_time": "2021-10-16T09:08:02.429Z"
   },
   {
    "duration": 6,
    "start_time": "2021-10-16T09:08:03.689Z"
   },
   {
    "duration": 7,
    "start_time": "2021-10-16T09:08:03.698Z"
   },
   {
    "duration": 992,
    "start_time": "2021-10-16T09:08:42.689Z"
   },
   {
    "duration": 1058,
    "start_time": "2021-10-16T09:08:57.143Z"
   },
   {
    "duration": 1042,
    "start_time": "2021-10-16T09:09:36.127Z"
   },
   {
    "duration": 843,
    "start_time": "2021-10-16T09:51:20.109Z"
   },
   {
    "duration": 22,
    "start_time": "2021-10-16T09:51:20.955Z"
   },
   {
    "duration": 16,
    "start_time": "2021-10-16T09:51:20.980Z"
   },
   {
    "duration": 618,
    "start_time": "2021-10-16T09:51:20.999Z"
   },
   {
    "duration": 1505,
    "start_time": "2021-10-16T09:51:21.619Z"
   },
   {
    "duration": 1068,
    "start_time": "2021-10-16T09:51:23.127Z"
   },
   {
    "duration": 6,
    "start_time": "2021-10-16T09:51:24.198Z"
   },
   {
    "duration": 8,
    "start_time": "2021-10-16T09:51:24.208Z"
   },
   {
    "duration": 1516,
    "start_time": "2021-10-16T09:51:37.246Z"
   },
   {
    "duration": 1479,
    "start_time": "2021-10-16T09:51:45.933Z"
   },
   {
    "duration": 1776,
    "start_time": "2021-10-16T09:55:20.628Z"
   },
   {
    "duration": 1480,
    "start_time": "2021-10-16T09:55:39.999Z"
   },
   {
    "duration": 1480,
    "start_time": "2021-10-16T09:55:49.420Z"
   },
   {
    "duration": 1489,
    "start_time": "2021-10-16T09:56:12.403Z"
   },
   {
    "duration": 1605,
    "start_time": "2021-10-16T09:56:32.440Z"
   },
   {
    "duration": 1515,
    "start_time": "2021-10-16T09:56:40.484Z"
   },
   {
    "duration": 1506,
    "start_time": "2021-10-16T09:56:49.201Z"
   },
   {
    "duration": 1532,
    "start_time": "2021-10-16T09:57:01.130Z"
   },
   {
    "duration": 1626,
    "start_time": "2021-10-16T09:57:08.416Z"
   },
   {
    "duration": 1566,
    "start_time": "2021-10-16T09:57:17.057Z"
   },
   {
    "duration": 1037,
    "start_time": "2021-10-16T09:57:57.167Z"
   },
   {
    "duration": 1102,
    "start_time": "2021-10-16T09:58:16.324Z"
   },
   {
    "duration": 1621,
    "start_time": "2021-10-16T09:58:23.668Z"
   },
   {
    "duration": 18,
    "start_time": "2021-10-16T10:22:17.519Z"
   },
   {
    "duration": 19,
    "start_time": "2021-10-16T10:25:19.610Z"
   },
   {
    "duration": 606,
    "start_time": "2021-10-16T10:27:18.907Z"
   },
   {
    "duration": 585,
    "start_time": "2021-10-16T10:28:08.691Z"
   },
   {
    "duration": 633,
    "start_time": "2021-10-16T10:28:45.836Z"
   },
   {
    "duration": 584,
    "start_time": "2021-10-16T10:29:00.580Z"
   },
   {
    "duration": 914,
    "start_time": "2021-10-16T10:29:15.943Z"
   },
   {
    "duration": 103,
    "start_time": "2021-10-16T10:38:49.442Z"
   },
   {
    "duration": 96,
    "start_time": "2021-10-16T10:38:59.227Z"
   },
   {
    "duration": 585,
    "start_time": "2021-10-16T10:39:22.598Z"
   },
   {
    "duration": 604,
    "start_time": "2021-10-16T10:39:32.213Z"
   },
   {
    "duration": 642,
    "start_time": "2021-10-16T10:39:37.224Z"
   },
   {
    "duration": 1131,
    "start_time": "2021-10-16T10:42:55.978Z"
   },
   {
    "duration": 1142,
    "start_time": "2021-10-16T10:43:22.784Z"
   },
   {
    "duration": 1469,
    "start_time": "2021-10-16T10:46:21.435Z"
   },
   {
    "duration": 1535,
    "start_time": "2021-10-16T10:46:38.163Z"
   },
   {
    "duration": 1606,
    "start_time": "2021-10-16T10:46:49.989Z"
   },
   {
    "duration": 1567,
    "start_time": "2021-10-16T10:48:20.481Z"
   },
   {
    "duration": 1598,
    "start_time": "2021-10-16T10:48:35.099Z"
   },
   {
    "duration": 1856,
    "start_time": "2021-10-16T10:49:02.292Z"
   },
   {
    "duration": 1524,
    "start_time": "2021-10-16T10:49:20.859Z"
   },
   {
    "duration": 1828,
    "start_time": "2021-10-16T10:49:33.228Z"
   },
   {
    "duration": 1788,
    "start_time": "2021-10-16T10:50:00.301Z"
   },
   {
    "duration": 1748,
    "start_time": "2021-10-16T10:50:07.566Z"
   },
   {
    "duration": 1770,
    "start_time": "2021-10-16T10:50:55.092Z"
   },
   {
    "duration": 1713,
    "start_time": "2021-10-16T10:51:08.792Z"
   },
   {
    "duration": 1717,
    "start_time": "2021-10-16T10:51:30.497Z"
   },
   {
    "duration": 1086,
    "start_time": "2021-10-16T10:52:09.061Z"
   },
   {
    "duration": 24,
    "start_time": "2021-10-16T10:52:10.150Z"
   },
   {
    "duration": 19,
    "start_time": "2021-10-16T10:52:10.177Z"
   },
   {
    "duration": 708,
    "start_time": "2021-10-16T10:52:10.199Z"
   },
   {
    "duration": 1670,
    "start_time": "2021-10-16T10:52:10.910Z"
   },
   {
    "duration": 1204,
    "start_time": "2021-10-16T10:52:12.582Z"
   },
   {
    "duration": 1439,
    "start_time": "2021-10-16T10:52:13.789Z"
   },
   {
    "duration": 34,
    "start_time": "2021-10-16T10:52:15.232Z"
   },
   {
    "duration": 1445,
    "start_time": "2021-10-16T11:01:22.653Z"
   },
   {
    "duration": 1415,
    "start_time": "2021-10-16T11:01:34.973Z"
   },
   {
    "duration": 14,
    "start_time": "2021-10-16T11:21:05.843Z"
   },
   {
    "duration": 30,
    "start_time": "2021-10-16T11:21:14.409Z"
   },
   {
    "duration": 542,
    "start_time": "2021-10-16T11:32:54.267Z"
   },
   {
    "duration": 482,
    "start_time": "2021-10-16T11:33:06.027Z"
   },
   {
    "duration": 638,
    "start_time": "2021-10-16T11:35:03.460Z"
   },
   {
    "duration": 627,
    "start_time": "2021-10-16T11:36:55.507Z"
   },
   {
    "duration": 1040,
    "start_time": "2021-10-16T11:39:20.204Z"
   },
   {
    "duration": 1485,
    "start_time": "2021-10-16T11:39:30.690Z"
   },
   {
    "duration": 19,
    "start_time": "2021-10-16T11:39:32.178Z"
   },
   {
    "duration": 19,
    "start_time": "2021-10-16T11:39:32.200Z"
   },
   {
    "duration": 667,
    "start_time": "2021-10-16T11:39:32.222Z"
   },
   {
    "duration": 1821,
    "start_time": "2021-10-16T11:39:32.891Z"
   },
   {
    "duration": 1129,
    "start_time": "2021-10-16T11:39:34.715Z"
   },
   {
    "duration": 1525,
    "start_time": "2021-10-16T11:39:35.847Z"
   },
   {
    "duration": 733,
    "start_time": "2021-10-16T11:39:37.376Z"
   },
   {
    "duration": 14,
    "start_time": "2021-10-16T11:39:38.112Z"
   },
   {
    "duration": 42,
    "start_time": "2021-10-16T11:39:38.129Z"
   },
   {
    "duration": 652,
    "start_time": "2021-10-16T11:42:04.614Z"
   },
   {
    "duration": 738,
    "start_time": "2021-10-16T11:43:32.014Z"
   },
   {
    "duration": 707,
    "start_time": "2021-10-16T11:45:52.286Z"
   },
   {
    "duration": 739,
    "start_time": "2021-10-16T11:48:00.923Z"
   },
   {
    "duration": 653,
    "start_time": "2021-10-16T11:48:15.796Z"
   },
   {
    "duration": 327,
    "start_time": "2021-10-17T07:24:27.207Z"
   },
   {
    "duration": 1384,
    "start_time": "2021-10-17T07:24:34.819Z"
   },
   {
    "duration": 17,
    "start_time": "2021-10-17T07:24:36.206Z"
   },
   {
    "duration": 18,
    "start_time": "2021-10-17T07:24:36.226Z"
   },
   {
    "duration": 644,
    "start_time": "2021-10-17T07:24:36.247Z"
   },
   {
    "duration": 1553,
    "start_time": "2021-10-17T07:24:36.894Z"
   },
   {
    "duration": 1079,
    "start_time": "2021-10-17T07:24:38.450Z"
   },
   {
    "duration": 1474,
    "start_time": "2021-10-17T07:24:39.532Z"
   },
   {
    "duration": 662,
    "start_time": "2021-10-17T07:24:41.009Z"
   },
   {
    "duration": 6244,
    "start_time": "2021-10-17T07:24:41.673Z"
   },
   {
    "duration": 1411,
    "start_time": "2021-10-17T07:55:39.747Z"
   },
   {
    "duration": 17,
    "start_time": "2021-10-17T07:55:41.161Z"
   },
   {
    "duration": 17,
    "start_time": "2021-10-17T07:55:41.181Z"
   },
   {
    "duration": 628,
    "start_time": "2021-10-17T07:55:41.201Z"
   },
   {
    "duration": 1584,
    "start_time": "2021-10-17T07:55:41.831Z"
   },
   {
    "duration": 1094,
    "start_time": "2021-10-17T07:55:43.417Z"
   },
   {
    "duration": 1548,
    "start_time": "2021-10-17T07:55:44.514Z"
   },
   {
    "duration": 669,
    "start_time": "2021-10-17T07:55:46.068Z"
   },
   {
    "duration": 6156,
    "start_time": "2021-10-17T07:55:46.740Z"
   },
   {
    "duration": 246,
    "start_time": "2021-10-17T07:56:05.132Z"
   },
   {
    "duration": 17,
    "start_time": "2021-10-17T07:56:13.616Z"
   },
   {
    "duration": 5996,
    "start_time": "2021-10-17T07:56:29.318Z"
   },
   {
    "duration": 5949,
    "start_time": "2021-10-17T07:57:51.401Z"
   },
   {
    "duration": 6072,
    "start_time": "2021-10-17T07:58:19.316Z"
   },
   {
    "duration": 12,
    "start_time": "2021-10-17T07:58:37.957Z"
   },
   {
    "duration": 6085,
    "start_time": "2021-10-17T07:58:50.543Z"
   },
   {
    "duration": 6024,
    "start_time": "2021-10-17T08:01:06.978Z"
   },
   {
    "duration": 1414,
    "start_time": "2021-10-17T08:01:38.643Z"
   },
   {
    "duration": 17,
    "start_time": "2021-10-17T08:01:40.060Z"
   },
   {
    "duration": 18,
    "start_time": "2021-10-17T08:01:40.080Z"
   },
   {
    "duration": 626,
    "start_time": "2021-10-17T08:01:40.100Z"
   },
   {
    "duration": 1532,
    "start_time": "2021-10-17T08:01:40.728Z"
   },
   {
    "duration": 1166,
    "start_time": "2021-10-17T08:01:42.263Z"
   },
   {
    "duration": 1389,
    "start_time": "2021-10-17T08:01:43.431Z"
   },
   {
    "duration": 671,
    "start_time": "2021-10-17T08:01:44.823Z"
   },
   {
    "duration": 11,
    "start_time": "2021-10-17T08:01:45.497Z"
   },
   {
    "duration": 6563,
    "start_time": "2021-10-17T08:01:45.511Z"
   },
   {
    "duration": -110,
    "start_time": "2021-10-17T08:01:52.186Z"
   },
   {
    "duration": 6234,
    "start_time": "2021-10-17T08:02:08.287Z"
   },
   {
    "duration": 10,
    "start_time": "2021-10-17T08:03:05.316Z"
   },
   {
    "duration": 5827,
    "start_time": "2021-10-17T08:03:50.297Z"
   },
   {
    "duration": 12,
    "start_time": "2021-10-17T08:04:01.628Z"
   },
   {
    "duration": 14,
    "start_time": "2021-10-17T08:04:26.386Z"
   },
   {
    "duration": 14,
    "start_time": "2021-10-17T08:05:57.404Z"
   },
   {
    "duration": 14,
    "start_time": "2021-10-17T08:06:34.886Z"
   },
   {
    "duration": 13,
    "start_time": "2021-10-17T08:06:42.998Z"
   },
   {
    "duration": 19,
    "start_time": "2021-10-17T08:08:40.573Z"
   },
   {
    "duration": 731,
    "start_time": "2021-10-17T08:09:05.288Z"
   },
   {
    "duration": 6346,
    "start_time": "2021-10-17T08:09:38.602Z"
   },
   {
    "duration": 33,
    "start_time": "2021-10-17T08:10:22.140Z"
   },
   {
    "duration": 34,
    "start_time": "2021-10-17T08:13:12.335Z"
   },
   {
    "duration": 629,
    "start_time": "2021-10-17T08:13:36.425Z"
   },
   {
    "duration": 1343,
    "start_time": "2021-10-17T08:58:55.620Z"
   },
   {
    "duration": 18,
    "start_time": "2021-10-17T08:58:56.966Z"
   },
   {
    "duration": 17,
    "start_time": "2021-10-17T08:58:56.987Z"
   },
   {
    "duration": 619,
    "start_time": "2021-10-17T08:58:57.007Z"
   },
   {
    "duration": 1576,
    "start_time": "2021-10-17T08:58:57.629Z"
   },
   {
    "duration": 1128,
    "start_time": "2021-10-17T08:58:59.207Z"
   },
   {
    "duration": 1475,
    "start_time": "2021-10-17T08:59:00.338Z"
   },
   {
    "duration": 659,
    "start_time": "2021-10-17T08:59:01.817Z"
   },
   {
    "duration": 14,
    "start_time": "2021-10-17T08:59:02.478Z"
   },
   {
    "duration": 34,
    "start_time": "2021-10-17T08:59:02.494Z"
   },
   {
    "duration": 1363,
    "start_time": "2021-10-18T03:24:03.581Z"
   },
   {
    "duration": 17,
    "start_time": "2021-10-18T03:24:04.947Z"
   },
   {
    "duration": 18,
    "start_time": "2021-10-18T03:24:04.967Z"
   },
   {
    "duration": 637,
    "start_time": "2021-10-18T03:24:04.988Z"
   },
   {
    "duration": 1502,
    "start_time": "2021-10-18T03:24:05.627Z"
   },
   {
    "duration": 1082,
    "start_time": "2021-10-18T03:24:07.132Z"
   },
   {
    "duration": 1483,
    "start_time": "2021-10-18T03:24:08.216Z"
   },
   {
    "duration": 667,
    "start_time": "2021-10-18T03:24:09.702Z"
   },
   {
    "duration": 14,
    "start_time": "2021-10-18T03:24:10.372Z"
   },
   {
    "duration": 35,
    "start_time": "2021-10-18T03:24:10.389Z"
   },
   {
    "duration": 14,
    "start_time": "2021-10-18T03:49:41.471Z"
   },
   {
    "duration": 75,
    "start_time": "2021-10-27T16:40:28.235Z"
   },
   {
    "duration": 1451,
    "start_time": "2021-10-27T16:41:23.093Z"
   },
   {
    "duration": 32,
    "start_time": "2021-10-27T16:42:30.062Z"
   },
   {
    "duration": 79,
    "start_time": "2021-10-27T16:43:01.413Z"
   },
   {
    "duration": 17,
    "start_time": "2021-10-27T16:43:09.676Z"
   },
   {
    "duration": 11,
    "start_time": "2021-10-27T16:43:23.835Z"
   },
   {
    "duration": 12,
    "start_time": "2021-10-27T16:43:39.892Z"
   },
   {
    "duration": 76,
    "start_time": "2021-10-27T16:43:59.861Z"
   },
   {
    "duration": 14,
    "start_time": "2021-10-27T16:44:04.722Z"
   },
   {
    "duration": 299,
    "start_time": "2021-10-27T16:44:29.395Z"
   },
   {
    "duration": 12,
    "start_time": "2021-10-27T16:44:42.228Z"
   },
   {
    "duration": 12,
    "start_time": "2021-10-27T16:45:02.817Z"
   },
   {
    "duration": 11,
    "start_time": "2021-10-27T16:45:09.665Z"
   },
   {
    "duration": 14,
    "start_time": "2021-10-27T16:45:25.364Z"
   },
   {
    "duration": 100,
    "start_time": "2021-10-27T16:52:01.836Z"
   },
   {
    "duration": 319,
    "start_time": "2021-10-27T16:52:39.237Z"
   },
   {
    "duration": 76,
    "start_time": "2021-10-27T16:53:29.729Z"
   },
   {
    "duration": 326,
    "start_time": "2021-10-27T16:53:35.063Z"
   },
   {
    "duration": 320,
    "start_time": "2021-10-27T16:54:34.253Z"
   },
   {
    "duration": 323,
    "start_time": "2021-10-27T16:56:04.940Z"
   },
   {
    "duration": 292,
    "start_time": "2021-10-27T16:59:55.354Z"
   },
   {
    "duration": 300,
    "start_time": "2021-10-27T17:00:37.188Z"
   },
   {
    "duration": 64,
    "start_time": "2021-10-27T17:01:51.336Z"
   },
   {
    "duration": 75,
    "start_time": "2021-10-27T17:02:00.503Z"
   },
   {
    "duration": 64,
    "start_time": "2021-10-27T17:02:24.713Z"
   },
   {
    "duration": 66,
    "start_time": "2021-10-27T17:02:42.215Z"
   },
   {
    "duration": 66,
    "start_time": "2021-10-27T17:03:01.819Z"
   },
   {
    "duration": 1148,
    "start_time": "2021-10-27T17:03:15.839Z"
   },
   {
    "duration": 17,
    "start_time": "2021-10-27T17:03:16.989Z"
   },
   {
    "duration": 13,
    "start_time": "2021-10-27T17:03:17.008Z"
   },
   {
    "duration": 66,
    "start_time": "2021-10-27T17:03:17.023Z"
   },
   {
    "duration": 352,
    "start_time": "2021-10-27T17:03:17.091Z"
   },
   {
    "duration": 746,
    "start_time": "2021-10-27T17:03:17.446Z"
   },
   {
    "duration": 579,
    "start_time": "2021-10-27T17:03:18.194Z"
   },
   {
    "duration": 1018,
    "start_time": "2021-10-27T17:03:18.775Z"
   },
   {
    "duration": 395,
    "start_time": "2021-10-27T17:03:19.795Z"
   },
   {
    "duration": 11,
    "start_time": "2021-10-27T17:03:20.192Z"
   },
   {
    "duration": 27,
    "start_time": "2021-10-27T17:03:20.205Z"
   },
   {
    "duration": 71,
    "start_time": "2021-10-27T17:07:06.857Z"
   },
   {
    "duration": 66,
    "start_time": "2021-10-27T17:07:16.994Z"
   },
   {
    "duration": 86,
    "start_time": "2021-10-27T17:08:49.920Z"
   },
   {
    "duration": 73,
    "start_time": "2021-10-27T17:09:02.295Z"
   },
   {
    "duration": 596,
    "start_time": "2021-10-27T17:15:03.462Z"
   },
   {
    "duration": 77,
    "start_time": "2021-10-27T17:15:15.896Z"
   },
   {
    "duration": 180,
    "start_time": "2021-10-27T17:16:22.395Z"
   },
   {
    "duration": 307,
    "start_time": "2021-10-27T17:18:17.549Z"
   },
   {
    "duration": 422,
    "start_time": "2021-10-27T17:18:49.794Z"
   },
   {
    "duration": 375,
    "start_time": "2021-10-27T17:19:06.612Z"
   },
   {
    "duration": 688,
    "start_time": "2021-10-27T17:19:35.471Z"
   },
   {
    "duration": 5990,
    "start_time": "2021-10-27T17:20:02.662Z"
   },
   {
    "duration": 410,
    "start_time": "2021-10-27T17:20:30.761Z"
   },
   {
    "duration": 487,
    "start_time": "2021-10-27T17:20:39.789Z"
   },
   {
    "duration": 411,
    "start_time": "2021-10-27T17:21:46.792Z"
   },
   {
    "duration": 699,
    "start_time": "2021-10-27T17:26:34.117Z"
   },
   {
    "duration": 468,
    "start_time": "2021-10-27T17:26:44.430Z"
   },
   {
    "duration": 417,
    "start_time": "2021-10-27T17:28:49.056Z"
   },
   {
    "duration": 465,
    "start_time": "2021-10-27T17:31:05.149Z"
   },
   {
    "duration": 251,
    "start_time": "2021-10-27T17:32:19.008Z"
   },
   {
    "duration": 514,
    "start_time": "2021-10-27T17:33:03.672Z"
   },
   {
    "duration": 616,
    "start_time": "2021-10-27T17:33:51.175Z"
   },
   {
    "duration": 823,
    "start_time": "2021-10-27T17:34:12.590Z"
   },
   {
    "duration": 380,
    "start_time": "2021-10-27T17:34:44.140Z"
   },
   {
    "duration": 731,
    "start_time": "2021-10-27T17:35:19.930Z"
   },
   {
    "duration": 534,
    "start_time": "2021-10-27T17:35:33.983Z"
   },
   {
    "duration": 1206,
    "start_time": "2021-10-27T17:37:38.064Z"
   },
   {
    "duration": 12,
    "start_time": "2021-10-27T17:37:39.272Z"
   },
   {
    "duration": 13,
    "start_time": "2021-10-27T17:37:39.286Z"
   },
   {
    "duration": 433,
    "start_time": "2021-10-27T17:37:39.301Z"
   },
   {
    "duration": 447,
    "start_time": "2021-10-27T17:37:39.736Z"
   },
   {
    "duration": 829,
    "start_time": "2021-10-27T17:37:40.185Z"
   },
   {
    "duration": 573,
    "start_time": "2021-10-27T17:37:41.016Z"
   },
   {
    "duration": 995,
    "start_time": "2021-10-27T17:37:41.592Z"
   },
   {
    "duration": 399,
    "start_time": "2021-10-27T17:37:42.589Z"
   },
   {
    "duration": 9,
    "start_time": "2021-10-27T17:37:42.990Z"
   },
   {
    "duration": 29,
    "start_time": "2021-10-27T17:37:43.002Z"
   },
   {
    "duration": 569,
    "start_time": "2021-10-27T17:43:05.254Z"
   },
   {
    "duration": 1265,
    "start_time": "2021-10-27T17:45:21.926Z"
   },
   {
    "duration": 13,
    "start_time": "2021-10-27T17:45:23.193Z"
   },
   {
    "duration": 12,
    "start_time": "2021-10-27T17:45:23.208Z"
   },
   {
    "duration": 425,
    "start_time": "2021-10-27T17:45:23.222Z"
   },
   {
    "duration": 435,
    "start_time": "2021-10-27T17:45:23.649Z"
   },
   {
    "duration": 815,
    "start_time": "2021-10-27T17:45:24.086Z"
   },
   {
    "duration": 596,
    "start_time": "2021-10-27T17:45:24.902Z"
   },
   {
    "duration": 1006,
    "start_time": "2021-10-27T17:45:25.499Z"
   },
   {
    "duration": 403,
    "start_time": "2021-10-27T17:45:26.507Z"
   },
   {
    "duration": 10,
    "start_time": "2021-10-27T17:45:26.913Z"
   },
   {
    "duration": 47,
    "start_time": "2021-10-27T17:45:26.925Z"
   },
   {
    "duration": 385,
    "start_time": "2021-10-27T17:47:39.919Z"
   },
   {
    "duration": 79,
    "start_time": "2021-10-27T17:48:15.582Z"
   },
   {
    "duration": 385,
    "start_time": "2021-10-27T17:50:42.411Z"
   },
   {
    "duration": 25,
    "start_time": "2021-10-27T17:52:29.655Z"
   },
   {
    "duration": 1250,
    "start_time": "2021-10-27T17:55:16.225Z"
   },
   {
    "duration": 12,
    "start_time": "2021-10-27T17:55:17.476Z"
   },
   {
    "duration": 19,
    "start_time": "2021-10-27T17:55:17.490Z"
   },
   {
    "duration": 439,
    "start_time": "2021-10-27T17:55:17.511Z"
   },
   {
    "duration": 428,
    "start_time": "2021-10-27T17:55:17.952Z"
   },
   {
    "duration": 826,
    "start_time": "2021-10-27T17:55:18.381Z"
   },
   {
    "duration": 589,
    "start_time": "2021-10-27T17:55:19.209Z"
   },
   {
    "duration": 1042,
    "start_time": "2021-10-27T17:55:19.800Z"
   },
   {
    "duration": 386,
    "start_time": "2021-10-27T17:55:20.844Z"
   },
   {
    "duration": 9,
    "start_time": "2021-10-27T17:55:21.232Z"
   },
   {
    "duration": 39,
    "start_time": "2021-10-27T17:55:21.242Z"
   },
   {
    "duration": 81,
    "start_time": "2021-10-27T18:11:10.492Z"
   },
   {
    "duration": 1205,
    "start_time": "2021-10-27T18:12:37.063Z"
   },
   {
    "duration": 12,
    "start_time": "2021-10-27T18:12:38.270Z"
   },
   {
    "duration": 11,
    "start_time": "2021-10-27T18:12:38.284Z"
   },
   {
    "duration": 416,
    "start_time": "2021-10-27T18:12:38.297Z"
   },
   {
    "duration": 428,
    "start_time": "2021-10-27T18:12:38.715Z"
   },
   {
    "duration": 754,
    "start_time": "2021-10-27T18:12:39.144Z"
   },
   {
    "duration": 591,
    "start_time": "2021-10-27T18:12:39.899Z"
   },
   {
    "duration": 1004,
    "start_time": "2021-10-27T18:12:40.492Z"
   },
   {
    "duration": 399,
    "start_time": "2021-10-27T18:12:41.499Z"
   },
   {
    "duration": 9,
    "start_time": "2021-10-27T18:12:41.900Z"
   },
   {
    "duration": 27,
    "start_time": "2021-10-27T18:12:41.911Z"
   },
   {
    "duration": 1204,
    "start_time": "2021-10-28T00:13:32.458Z"
   },
   {
    "duration": 11,
    "start_time": "2021-10-28T00:13:33.664Z"
   },
   {
    "duration": 12,
    "start_time": "2021-10-28T00:13:33.678Z"
   },
   {
    "duration": 419,
    "start_time": "2021-10-28T00:13:33.691Z"
   },
   {
    "duration": 415,
    "start_time": "2021-10-28T00:13:34.112Z"
   },
   {
    "duration": 772,
    "start_time": "2021-10-28T00:13:34.528Z"
   },
   {
    "duration": 570,
    "start_time": "2021-10-28T00:13:35.302Z"
   },
   {
    "duration": 1138,
    "start_time": "2021-10-28T00:13:35.874Z"
   },
   {
    "duration": 375,
    "start_time": "2021-10-28T00:13:37.014Z"
   },
   {
    "duration": 9,
    "start_time": "2021-10-28T00:13:37.391Z"
   },
   {
    "duration": 23,
    "start_time": "2021-10-28T00:13:37.401Z"
   },
   {
    "duration": 5,
    "start_time": "2021-10-28T00:23:28.627Z"
   },
   {
    "duration": 4,
    "start_time": "2021-10-28T00:24:18.471Z"
   },
   {
    "duration": 439,
    "start_time": "2021-10-28T00:24:30.983Z"
   }
  ],
  "kernelspec": {
   "display_name": "Python 3",
   "language": "python",
   "name": "python3"
  },
  "language_info": {
   "codemirror_mode": {
    "name": "ipython",
    "version": 3
   },
   "file_extension": ".py",
   "mimetype": "text/x-python",
   "name": "python",
   "nbconvert_exporter": "python",
   "pygments_lexer": "ipython3",
   "version": "3.8.8"
  },
  "toc": {
   "base_numbering": 1,
   "nav_menu": {
    "height": "119px",
    "width": "244px"
   },
   "number_sections": true,
   "sideBar": true,
   "skip_h1_title": true,
   "title_cell": "Table of Contents",
   "title_sidebar": "Contents",
   "toc_cell": false,
   "toc_position": {},
   "toc_section_display": true,
   "toc_window_display": false
  }
 },
 "nbformat": 4,
 "nbformat_minor": 2
}
